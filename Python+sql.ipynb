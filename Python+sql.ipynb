{
 "cells": [
  {
   "cell_type": "code",
   "execution_count": 1,
   "id": "a0bb5f62-3c7c-4d61-a38d-857d8a48f23e",
   "metadata": {},
   "outputs": [
    {
     "name": "stdout",
     "output_type": "stream",
     "text": [
      "Defaulting to user installation because normal site-packages is not writeable\n",
      "Requirement already satisfied: pandas in c:\\users\\sabab\\appdata\\roaming\\python\\python312\\site-packages (2.2.2)\n",
      "Requirement already satisfied: numpy>=1.26.0 in c:\\users\\sabab\\appdata\\roaming\\python\\python312\\site-packages (from pandas) (2.0.0)\n",
      "Requirement already satisfied: python-dateutil>=2.8.2 in c:\\users\\sabab\\appdata\\roaming\\python\\python312\\site-packages (from pandas) (2.9.0.post0)\n",
      "Requirement already satisfied: pytz>=2020.1 in c:\\users\\sabab\\appdata\\roaming\\python\\python312\\site-packages (from pandas) (2024.1)\n",
      "Requirement already satisfied: tzdata>=2022.7 in c:\\users\\sabab\\appdata\\roaming\\python\\python312\\site-packages (from pandas) (2024.1)\n",
      "Requirement already satisfied: six>=1.5 in c:\\users\\sabab\\appdata\\roaming\\python\\python312\\site-packages (from python-dateutil>=2.8.2->pandas) (1.16.0)\n",
      "Note: you may need to restart the kernel to use updated packages.\n"
     ]
    }
   ],
   "source": [
    "pip install pandas"
   ]
  },
  {
   "cell_type": "code",
   "execution_count": 2,
   "id": "4a2e3291-592a-4598-9641-124d60df7eff",
   "metadata": {},
   "outputs": [
    {
     "name": "stdout",
     "output_type": "stream",
     "text": [
      "Defaulting to user installation because normal site-packages is not writeable\n",
      "Requirement already satisfied: mysql-connector-python in c:\\users\\sabab\\appdata\\roaming\\python\\python312\\site-packages (9.0.0)\n",
      "Note: you may need to restart the kernel to use updated packages.\n"
     ]
    }
   ],
   "source": [
    "pip install mysql-connector-python"
   ]
  },
  {
   "cell_type": "code",
   "execution_count": 3,
   "id": "ce08b046-4566-473c-b6e5-620a889a089b",
   "metadata": {},
   "outputs": [
    {
     "name": "stdout",
     "output_type": "stream",
     "text": [
      "Defaulting to user installation because normal site-packages is not writeable\n",
      "Requirement already satisfied: matplotlib in c:\\users\\sabab\\appdata\\roaming\\python\\python312\\site-packages (3.9.1)\n",
      "Requirement already satisfied: contourpy>=1.0.1 in c:\\users\\sabab\\appdata\\roaming\\python\\python312\\site-packages (from matplotlib) (1.2.1)\n",
      "Requirement already satisfied: cycler>=0.10 in c:\\users\\sabab\\appdata\\roaming\\python\\python312\\site-packages (from matplotlib) (0.12.1)\n",
      "Requirement already satisfied: fonttools>=4.22.0 in c:\\users\\sabab\\appdata\\roaming\\python\\python312\\site-packages (from matplotlib) (4.53.1)\n",
      "Requirement already satisfied: kiwisolver>=1.3.1 in c:\\users\\sabab\\appdata\\roaming\\python\\python312\\site-packages (from matplotlib) (1.4.5)\n",
      "Requirement already satisfied: numpy>=1.23 in c:\\users\\sabab\\appdata\\roaming\\python\\python312\\site-packages (from matplotlib) (2.0.0)\n",
      "Requirement already satisfied: packaging>=20.0 in c:\\users\\sabab\\appdata\\roaming\\python\\python312\\site-packages (from matplotlib) (24.1)\n",
      "Requirement already satisfied: pillow>=8 in c:\\users\\sabab\\appdata\\roaming\\python\\python312\\site-packages (from matplotlib) (10.4.0)\n",
      "Requirement already satisfied: pyparsing>=2.3.1 in c:\\users\\sabab\\appdata\\roaming\\python\\python312\\site-packages (from matplotlib) (3.1.2)\n",
      "Requirement already satisfied: python-dateutil>=2.7 in c:\\users\\sabab\\appdata\\roaming\\python\\python312\\site-packages (from matplotlib) (2.9.0.post0)\n",
      "Requirement already satisfied: six>=1.5 in c:\\users\\sabab\\appdata\\roaming\\python\\python312\\site-packages (from python-dateutil>=2.7->matplotlib) (1.16.0)\n",
      "Note: you may need to restart the kernel to use updated packages.\n"
     ]
    }
   ],
   "source": [
    "pip install matplotlib"
   ]
  },
  {
   "cell_type": "code",
   "execution_count": 4,
   "id": "c2bd3224-19f1-4c2a-a333-25f27aba68a7",
   "metadata": {},
   "outputs": [
    {
     "name": "stdout",
     "output_type": "stream",
     "text": [
      "Defaulting to user installation because normal site-packages is not writeable\n",
      "Requirement already satisfied: seaborn in c:\\users\\sabab\\appdata\\roaming\\python\\python312\\site-packages (0.13.2)\n",
      "Requirement already satisfied: numpy!=1.24.0,>=1.20 in c:\\users\\sabab\\appdata\\roaming\\python\\python312\\site-packages (from seaborn) (2.0.0)\n",
      "Requirement already satisfied: pandas>=1.2 in c:\\users\\sabab\\appdata\\roaming\\python\\python312\\site-packages (from seaborn) (2.2.2)\n",
      "Requirement already satisfied: matplotlib!=3.6.1,>=3.4 in c:\\users\\sabab\\appdata\\roaming\\python\\python312\\site-packages (from seaborn) (3.9.1)\n",
      "Requirement already satisfied: contourpy>=1.0.1 in c:\\users\\sabab\\appdata\\roaming\\python\\python312\\site-packages (from matplotlib!=3.6.1,>=3.4->seaborn) (1.2.1)\n",
      "Requirement already satisfied: cycler>=0.10 in c:\\users\\sabab\\appdata\\roaming\\python\\python312\\site-packages (from matplotlib!=3.6.1,>=3.4->seaborn) (0.12.1)\n",
      "Requirement already satisfied: fonttools>=4.22.0 in c:\\users\\sabab\\appdata\\roaming\\python\\python312\\site-packages (from matplotlib!=3.6.1,>=3.4->seaborn) (4.53.1)\n",
      "Requirement already satisfied: kiwisolver>=1.3.1 in c:\\users\\sabab\\appdata\\roaming\\python\\python312\\site-packages (from matplotlib!=3.6.1,>=3.4->seaborn) (1.4.5)\n",
      "Requirement already satisfied: packaging>=20.0 in c:\\users\\sabab\\appdata\\roaming\\python\\python312\\site-packages (from matplotlib!=3.6.1,>=3.4->seaborn) (24.1)\n",
      "Requirement already satisfied: pillow>=8 in c:\\users\\sabab\\appdata\\roaming\\python\\python312\\site-packages (from matplotlib!=3.6.1,>=3.4->seaborn) (10.4.0)\n",
      "Requirement already satisfied: pyparsing>=2.3.1 in c:\\users\\sabab\\appdata\\roaming\\python\\python312\\site-packages (from matplotlib!=3.6.1,>=3.4->seaborn) (3.1.2)\n",
      "Requirement already satisfied: python-dateutil>=2.7 in c:\\users\\sabab\\appdata\\roaming\\python\\python312\\site-packages (from matplotlib!=3.6.1,>=3.4->seaborn) (2.9.0.post0)\n",
      "Requirement already satisfied: pytz>=2020.1 in c:\\users\\sabab\\appdata\\roaming\\python\\python312\\site-packages (from pandas>=1.2->seaborn) (2024.1)\n",
      "Requirement already satisfied: tzdata>=2022.7 in c:\\users\\sabab\\appdata\\roaming\\python\\python312\\site-packages (from pandas>=1.2->seaborn) (2024.1)\n",
      "Requirement already satisfied: six>=1.5 in c:\\users\\sabab\\appdata\\roaming\\python\\python312\\site-packages (from python-dateutil>=2.7->matplotlib!=3.6.1,>=3.4->seaborn) (1.16.0)\n",
      "Note: you may need to restart the kernel to use updated packages.\n"
     ]
    }
   ],
   "source": [
    "pip install seaborn"
   ]
  },
  {
   "cell_type": "code",
   "execution_count": 5,
   "id": "771eeb8c-6f67-4265-b0d3-ebf32205ba4c",
   "metadata": {},
   "outputs": [
    {
     "name": "stdout",
     "output_type": "stream",
     "text": [
      "Processing customers.csv\n",
      "NaN values before replacement:\n",
      "customer_id                 0\n",
      "customer_unique_id          0\n",
      "customer_zip_code_prefix    0\n",
      "customer_city               0\n",
      "customer_state              0\n",
      "dtype: int64\n",
      "\n",
      "Processing orders.csv\n",
      "NaN values before replacement:\n",
      "order_id                            0\n",
      "customer_id                         0\n",
      "order_status                        0\n",
      "order_purchase_timestamp            0\n",
      "order_approved_at                 160\n",
      "order_delivered_carrier_date     1783\n",
      "order_delivered_customer_date    2965\n",
      "order_estimated_delivery_date       0\n",
      "dtype: int64\n",
      "\n",
      "Processing sellers.csv\n",
      "NaN values before replacement:\n",
      "seller_id                 0\n",
      "seller_zip_code_prefix    0\n",
      "seller_city               0\n",
      "seller_state              0\n",
      "dtype: int64\n",
      "\n",
      "Processing products.csv\n",
      "NaN values before replacement:\n",
      "product_id                      0\n",
      "product category              610\n",
      "product_name_length           610\n",
      "product_description_length    610\n",
      "product_photos_qty            610\n",
      "product_weight_g                2\n",
      "product_length_cm               2\n",
      "product_height_cm               2\n",
      "product_width_cm                2\n",
      "dtype: int64\n",
      "\n",
      "Processing geolocation.csv\n",
      "NaN values before replacement:\n",
      "geolocation_zip_code_prefix    0\n",
      "geolocation_lat                0\n",
      "geolocation_lng                0\n",
      "geolocation_city               0\n",
      "geolocation_state              0\n",
      "dtype: int64\n",
      "\n",
      "Processing payments.csv\n",
      "NaN values before replacement:\n",
      "order_id                0\n",
      "payment_sequential      0\n",
      "payment_type            0\n",
      "payment_installments    0\n",
      "payment_value           0\n",
      "dtype: int64\n",
      "\n",
      "Processing order_items.csv\n",
      "NaN values before replacement:\n",
      "order_id               0\n",
      "order_item_id          0\n",
      "product_id             0\n",
      "seller_id              0\n",
      "shipping_limit_date    0\n",
      "price                  0\n",
      "freight_value          0\n",
      "dtype: int64\n",
      "\n"
     ]
    }
   ],
   "source": [
    "import pandas as pd\n",
    "import mysql.connector\n",
    "import os\n",
    "\n",
    "# List of CSV files and their corresponding table names\n",
    "csv_files = [\n",
    "    ('customers.csv', 'customers'),\n",
    "    ('orders.csv', 'orders'),\n",
    "    ('sellers.csv', 'sellers'),\n",
    "    ('products.csv', 'products'),\n",
    "    ('geolocation.csv', 'geolocation'),\n",
    "    ('payments.csv', 'payments'), \n",
    "    ('order_items.csv', 'order_items'),# Added payments.csv for specific handling\n",
    "]\n",
    "\n",
    "# Connect to the MySQL database\n",
    "conn = mysql.connector.connect(\n",
    "    host='localhost',\n",
    "    user='root',\n",
    "    password='7F*q&654',\n",
    "    database='ecommerce'\n",
    ")\n",
    "cursor = conn.cursor()\n",
    "\n",
    "# Folder containing the CSV files\n",
    "folder_path = 'C:/Users/sabab/OneDrive/Desktop/ecommerce/archive'\n",
    "\n",
    "def get_sql_type(dtype):\n",
    "    if pd.api.types.is_integer_dtype(dtype):\n",
    "        return 'INT'\n",
    "    elif pd.api.types.is_float_dtype(dtype):\n",
    "        return 'FLOAT'\n",
    "    elif pd.api.types.is_bool_dtype(dtype):\n",
    "        return 'BOOLEAN'\n",
    "    elif pd.api.types.is_datetime64_any_dtype(dtype):\n",
    "        return 'DATETIME'\n",
    "    else:\n",
    "        return 'TEXT'\n",
    "\n",
    "for csv_file, table_name in csv_files:\n",
    "    file_path = os.path.join(folder_path, csv_file)\n",
    "    \n",
    "    # Read the CSV file into a pandas DataFrame\n",
    "    df = pd.read_csv(file_path)\n",
    "    \n",
    "    # Replace NaN with None to handle SQL NULL\n",
    "    df = df.where(pd.notnull(df), None)\n",
    "    \n",
    "    # Debugging: Check for NaN values\n",
    "    print(f\"Processing {csv_file}\")\n",
    "    print(f\"NaN values before replacement:\\n{df.isnull().sum()}\\n\")\n",
    "\n",
    "    # Clean column names\n",
    "    df.columns = [col.replace(' ', '_').replace('-', '_').replace('.', '_') for col in df.columns]\n",
    "\n",
    "    # Generate the CREATE TABLE statement with appropriate data types\n",
    "    columns = ', '.join([f'`{col}` {get_sql_type(df[col].dtype)}' for col in df.columns])\n",
    "    create_table_query = f'CREATE TABLE IF NOT EXISTS `{table_name}` ({columns})'\n",
    "    cursor.execute(create_table_query)\n",
    "\n",
    "    # Insert DataFrame data into the MySQL table\n",
    "    for _, row in df.iterrows():\n",
    "        # Convert row to tuple and handle NaN/None explicitly\n",
    "        values = tuple(None if pd.isna(x) else x for x in row)\n",
    "        sql = f\"INSERT INTO `{table_name}` ({', '.join(['`' + col + '`' for col in df.columns])}) VALUES ({', '.join(['%s'] * len(row))})\"\n",
    "        cursor.execute(sql, values)\n",
    "\n",
    "    # Commit the transaction for the current CSV file\n",
    "    conn.commit()\n",
    "\n",
    "# Close the connection\n",
    "conn.close()"
   ]
  },
  {
   "cell_type": "code",
   "execution_count": 2,
   "id": "26c8ff8b-ca02-436e-a065-23da70c6e330",
   "metadata": {},
   "outputs": [],
   "source": [
    "import pandas as pd\n",
    "import matplotlib.pyplot as plt\n",
    "import seaborn as sns\n",
    "import mysql.connector\n",
    "\n",
    "db =mysql.connector.connect(host =\"Localhost\",username = \"root\", password = \"7F*q&654\",database = \"ecommerce\")\n",
    "cur = db.cursor()\n"
   ]
  },
  {
   "cell_type": "markdown",
   "id": "d3354a5b-d347-4beb-93c3-7e7775e11121",
   "metadata": {},
   "source": [
    "# List all unique cities where customers are located?¶"
   ]
  },
  {
   "cell_type": "code",
   "execution_count": 8,
   "id": "c7bc14e4-d8e3-4d35-9285-31ecb71d76ad",
   "metadata": {},
   "outputs": [
    {
     "data": {
      "text/html": [
       "<div>\n",
       "<style scoped>\n",
       "    .dataframe tbody tr th:only-of-type {\n",
       "        vertical-align: middle;\n",
       "    }\n",
       "\n",
       "    .dataframe tbody tr th {\n",
       "        vertical-align: top;\n",
       "    }\n",
       "\n",
       "    .dataframe thead th {\n",
       "        text-align: right;\n",
       "    }\n",
       "</style>\n",
       "<table border=\"1\" class=\"dataframe\">\n",
       "  <thead>\n",
       "    <tr style=\"text-align: right;\">\n",
       "      <th></th>\n",
       "      <th>0</th>\n",
       "    </tr>\n",
       "  </thead>\n",
       "  <tbody>\n",
       "    <tr>\n",
       "      <th>0</th>\n",
       "      <td>franca</td>\n",
       "    </tr>\n",
       "    <tr>\n",
       "      <th>1</th>\n",
       "      <td>sao bernardo do campo</td>\n",
       "    </tr>\n",
       "    <tr>\n",
       "      <th>2</th>\n",
       "      <td>sao paulo</td>\n",
       "    </tr>\n",
       "    <tr>\n",
       "      <th>3</th>\n",
       "      <td>mogi das cruzes</td>\n",
       "    </tr>\n",
       "    <tr>\n",
       "      <th>4</th>\n",
       "      <td>campinas</td>\n",
       "    </tr>\n",
       "  </tbody>\n",
       "</table>\n",
       "</div>"
      ],
      "text/plain": [
       "                       0\n",
       "0                 franca\n",
       "1  sao bernardo do campo\n",
       "2              sao paulo\n",
       "3        mogi das cruzes\n",
       "4               campinas"
      ]
     },
     "execution_count": 8,
     "metadata": {},
     "output_type": "execute_result"
    }
   ],
   "source": [
    "query = \"\"\" select distinct customer_city from customers\"\"\"\n",
    "cur.execute(query)\n",
    "data = cur.fetchall()\n",
    "\n",
    "df = pd.DataFrame(data)\n",
    "df.head()"
   ]
  },
  {
   "cell_type": "markdown",
   "id": "aca80877-da34-4924-91a2-8922ec81a57a",
   "metadata": {},
   "source": [
    "# Count the number of orders placed in 2017."
   ]
  },
  {
   "cell_type": "code",
   "execution_count": 9,
   "id": "fe2f4202-74a4-4bca-9e83-48c53b13d67a",
   "metadata": {},
   "outputs": [
    {
     "data": {
      "text/plain": [
       "('total orders places in 2017 are', [(360808,)])"
      ]
     },
     "execution_count": 9,
     "metadata": {},
     "output_type": "execute_result"
    }
   ],
   "source": [
    "query = \"\"\" select count(order_id) from orders where year(order_purchase_timestamp)=2017\"\"\"\n",
    "cur.execute(query)\n",
    "data = cur.fetchall()\n",
    "\"total orders places in 2017 are\" , data"
   ]
  },
  {
   "cell_type": "markdown",
   "id": "3b58054d-7ac2-43c9-891f-cf3344f521fa",
   "metadata": {},
   "source": [
    "# Find the total sales per category."
   ]
  },
  {
   "cell_type": "code",
   "execution_count": 3,
   "id": "a0688132-8dc0-460f-934d-8ab63895311b",
   "metadata": {},
   "outputs": [
    {
     "data": {
      "text/html": [
       "<div>\n",
       "<style scoped>\n",
       "    .dataframe tbody tr th:only-of-type {\n",
       "        vertical-align: middle;\n",
       "    }\n",
       "\n",
       "    .dataframe tbody tr th {\n",
       "        vertical-align: top;\n",
       "    }\n",
       "\n",
       "    .dataframe thead th {\n",
       "        text-align: right;\n",
       "    }\n",
       "</style>\n",
       "<table border=\"1\" class=\"dataframe\">\n",
       "  <thead>\n",
       "    <tr style=\"text-align: right;\">\n",
       "      <th></th>\n",
       "      <th>Category</th>\n",
       "      <th>Sales</th>\n",
       "    </tr>\n",
       "  </thead>\n",
       "  <tbody>\n",
       "    <tr>\n",
       "      <th>0</th>\n",
       "      <td>PERFUMERY</td>\n",
       "      <td>3.243127e+07</td>\n",
       "    </tr>\n",
       "    <tr>\n",
       "      <th>1</th>\n",
       "      <td>FURNITURE DECORATION</td>\n",
       "      <td>9.153129e+07</td>\n",
       "    </tr>\n",
       "    <tr>\n",
       "      <th>2</th>\n",
       "      <td>TELEPHONY</td>\n",
       "      <td>3.116045e+07</td>\n",
       "    </tr>\n",
       "    <tr>\n",
       "      <th>3</th>\n",
       "      <td>BED TABLE BATH</td>\n",
       "      <td>1.096034e+08</td>\n",
       "    </tr>\n",
       "    <tr>\n",
       "      <th>4</th>\n",
       "      <td>AUTOMOTIVE</td>\n",
       "      <td>5.454684e+07</td>\n",
       "    </tr>\n",
       "    <tr>\n",
       "      <th>...</th>\n",
       "      <td>...</td>\n",
       "      <td>...</td>\n",
       "    </tr>\n",
       "    <tr>\n",
       "      <th>69</th>\n",
       "      <td>CDS MUSIC DVDS</td>\n",
       "      <td>7.676352e+04</td>\n",
       "    </tr>\n",
       "    <tr>\n",
       "      <th>70</th>\n",
       "      <td>LA CUISINE</td>\n",
       "      <td>1.864659e+05</td>\n",
       "    </tr>\n",
       "    <tr>\n",
       "      <th>71</th>\n",
       "      <td>FASHION CHILDREN'S CLOTHING</td>\n",
       "      <td>5.028288e+04</td>\n",
       "    </tr>\n",
       "    <tr>\n",
       "      <th>72</th>\n",
       "      <td>PC GAMER</td>\n",
       "      <td>1.391635e+05</td>\n",
       "    </tr>\n",
       "    <tr>\n",
       "      <th>73</th>\n",
       "      <td>INSURANCE AND SERVICES</td>\n",
       "      <td>2.076864e+04</td>\n",
       "    </tr>\n",
       "  </tbody>\n",
       "</table>\n",
       "<p>74 rows × 2 columns</p>\n",
       "</div>"
      ],
      "text/plain": [
       "                       Category         Sales\n",
       "0                     PERFUMERY  3.243127e+07\n",
       "1          FURNITURE DECORATION  9.153129e+07\n",
       "2                     TELEPHONY  3.116045e+07\n",
       "3                BED TABLE BATH  1.096034e+08\n",
       "4                    AUTOMOTIVE  5.454684e+07\n",
       "..                          ...           ...\n",
       "69               CDS MUSIC DVDS  7.676352e+04\n",
       "70                   LA CUISINE  1.864659e+05\n",
       "71  FASHION CHILDREN'S CLOTHING  5.028288e+04\n",
       "72                     PC GAMER  1.391635e+05\n",
       "73       INSURANCE AND SERVICES  2.076864e+04\n",
       "\n",
       "[74 rows x 2 columns]"
      ]
     },
     "execution_count": 3,
     "metadata": {},
     "output_type": "execute_result"
    }
   ],
   "source": [
    "query = \"\"\"\n",
    "select  upper(products.product_category) as category, round(sum(payments.payment_value), 2) as sales\n",
    "from products \n",
    "join order_items on products.product_id = order_items.product_id\n",
    "join payments on payments.order_id = order_items.order_id\n",
    "group by category\n",
    "\"\"\"\n",
    "cur.execute(query)\n",
    "data = cur.fetchall()\n",
    "#print(\"Total sales per category are:\", data)\n",
    "df= pd.DataFrame(data, columns = [\"Category\", \"Sales\"])\n",
    "df"
   ]
  },
  {
   "cell_type": "markdown",
   "id": "2adb7ae2-22e4-48d6-ac0f-366a3a3579cd",
   "metadata": {},
   "source": [
    "# Calculate the percentage of orders that were paid in installments."
   ]
  },
  {
   "cell_type": "code",
   "execution_count": 14,
   "id": "75427721-cf54-456c-9e77-9829898ed503",
   "metadata": {},
   "outputs": [
    {
     "name": "stdout",
     "output_type": "stream",
     "text": [
      "percentage of orders that were paid in installments is: 50.58\n"
     ]
    }
   ],
   "source": [
    "query = \"\"\"\n",
    "\n",
    "SELECT ROUND(SUM(CASE WHEN payment_installments = 1 THEN 1 ELSE 0 END) / COUNT(*) * 100, 2) AS installment_percentage\n",
    "FROM payments\n",
    "\"\"\"\n",
    "cur.execute(query)\n",
    "data = cur.fetchall()\n",
    "print(\"percentage of orders that were paid in installments is:\", data[0][0])"
   ]
  },
  {
   "cell_type": "markdown",
   "id": "49f57129-d9fb-4fd8-a549-7b9f6edd44c6",
   "metadata": {},
   "source": [
    "# Count the number of customers from each state."
   ]
  },
  {
   "cell_type": "code",
   "execution_count": 15,
   "id": "019bb618-2cc4-45c7-9690-28bbf1752b2f",
   "metadata": {},
   "outputs": [
    {
     "data": {
      "image/png": "[encoded data removed]",
      "text/plain": [
       "<Figure size 1000x600 with 1 Axes>"
      ]
     },
     "metadata": {},
     "output_type": "display_data"
    }
   ],
   "source": [
    "query = \"\"\"\n",
    "SELECT customer_state, COUNT(*) AS Customers_Count\n",
    "FROM customers\n",
    "GROUP BY customer_state\n",
    "\"\"\"\n",
    "cur.execute(query)\n",
    "data = cur.fetchall()\n",
    "\n",
    "# Creating DataFrame with the fetched data\n",
    "df = pd.DataFrame(data, columns=[\"State\", \"Customers_Count\"])\n",
    "df = df.sort_values(by = \"Customers_Count\", ascending = False)\n",
    "# Plotting the bar chart\n",
    "plt.figure(figsize = (10,6))\n",
    "plt.bar(df[\"State\"], df[\"Customers_Count\"])\n",
    "plt.xlabel(\"State\")\n",
    "plt.ylabel(\"Number of Customers\")\n",
    "plt.title(\"Number of Customers per State\")\n",
    "plt.xticks(rotation=90)  # Rotate state labels for better readability\n",
    "plt.savefig(\"customers_per_state.png\", bbox_inches='tight')\n",
    "plt.show()"
   ]
  },
  {
   "cell_type": "markdown",
   "id": "1fb60e56-6beb-435c-bad9-6978dc7d067f",
   "metadata": {},
   "source": [
    "# Calculate the number of orders per month in 2018."
   ]
  },
  {
   "cell_type": "code",
   "execution_count": 42,
   "id": "5c8af7aa-252f-4ca6-b7e2-1aa461a3340b",
   "metadata": {},
   "outputs": [
    {
     "data": {
      "image/png": "[encoded data removed]",
      "text/plain": [
       "<Figure size 1000x600 with 1 Axes>"
      ]
     },
     "metadata": {},
     "output_type": "display_data"
    }
   ],
   "source": [
    "query = \"\"\"\n",
    "select monthname(order_purchase_timestamp) as month, count(order_id) as order_count\n",
    "from orders\n",
    "where year(order_purchase_timestamp) = 2018\n",
    "group by month\n",
    "\"\"\"\n",
    "\n",
    "cur.execute(query)\n",
    "data = cur.fetchall()\n",
    "# Creating DataFrame with the fetched data\n",
    "df = pd.DataFrame(data, columns=[\"Month\", \"Order_Count\"])\n",
    "\n",
    "# Debugging: Print the DataFrame to verify its structure\n",
    "df\n",
    "# Plotting the bar chart with Seaborn\n",
    "plt.figure(figsize=(10, 6))\n",
    "o=[\"January\", \"February\", \"March\", \"April\", \"May\", \"June\", \"July\", \"August\", \"September\", \"October\"]\n",
    "ax = sns.barplot(x='Month', y='Order_Count', data=df,order = o, color = \"red\")\n",
    "\n",
    "ax.bar_label(ax.containers[0])\n",
    "plt.xlabel('Months')\n",
    "plt.ylabel('Order Count')\n",
    "plt.title('Monthly Order Count for 2018')\n",
    "plt.xticks(rotation=45)\n",
    "plt.savefig(\"customers_per_state.png\", bbox_inches='tight')\n",
    "plt.show()"
   ]
  },
  {
   "cell_type": "markdown",
   "id": "e97c24a5-c49e-440d-af55-b5c4f3764a8a",
   "metadata": {},
   "source": [
    "# Find the average number of products per order, grouped by customer city."
   ]
  },
  {
   "cell_type": "code",
   "execution_count": 13,
   "id": "666687e2-9871-4055-9180-9d2e7429366b",
   "metadata": {},
   "outputs": [
    {
     "data": {
      "text/html": [
       "<div>\n",
       "<style scoped>\n",
       "    .dataframe tbody tr th:only-of-type {\n",
       "        vertical-align: middle;\n",
       "    }\n",
       "\n",
       "    .dataframe tbody tr th {\n",
       "        vertical-align: top;\n",
       "    }\n",
       "\n",
       "    .dataframe thead th {\n",
       "        text-align: right;\n",
       "    }\n",
       "</style>\n",
       "<table border=\"1\" class=\"dataframe\">\n",
       "  <thead>\n",
       "    <tr style=\"text-align: right;\">\n",
       "      <th></th>\n",
       "      <th>customer_city</th>\n",
       "      <th>average_order</th>\n",
       "    </tr>\n",
       "  </thead>\n",
       "  <tbody>\n",
       "    <tr>\n",
       "      <th>0</th>\n",
       "      <td>sao benedito do rio preto</td>\n",
       "      <td>32.00</td>\n",
       "    </tr>\n",
       "    <tr>\n",
       "      <th>1</th>\n",
       "      <td>serranopolis</td>\n",
       "      <td>32.00</td>\n",
       "    </tr>\n",
       "    <tr>\n",
       "      <th>2</th>\n",
       "      <td>brotas de macaubas</td>\n",
       "      <td>32.00</td>\n",
       "    </tr>\n",
       "    <tr>\n",
       "      <th>3</th>\n",
       "      <td>tunapolis</td>\n",
       "      <td>32.00</td>\n",
       "    </tr>\n",
       "    <tr>\n",
       "      <th>4</th>\n",
       "      <td>capela do alto alegre</td>\n",
       "      <td>32.00</td>\n",
       "    </tr>\n",
       "    <tr>\n",
       "      <th>5</th>\n",
       "      <td>fortim</td>\n",
       "      <td>32.00</td>\n",
       "    </tr>\n",
       "    <tr>\n",
       "      <th>6</th>\n",
       "      <td>cairu</td>\n",
       "      <td>32.00</td>\n",
       "    </tr>\n",
       "    <tr>\n",
       "      <th>7</th>\n",
       "      <td>epitaciolandia</td>\n",
       "      <td>32.00</td>\n",
       "    </tr>\n",
       "    <tr>\n",
       "      <th>8</th>\n",
       "      <td>urucania</td>\n",
       "      <td>32.00</td>\n",
       "    </tr>\n",
       "    <tr>\n",
       "      <th>9</th>\n",
       "      <td>porto calvo</td>\n",
       "      <td>32.00</td>\n",
       "    </tr>\n",
       "  </tbody>\n",
       "</table>\n",
       "</div>"
      ],
      "text/plain": [
       "               customer_city average_order\n",
       "0  sao benedito do rio preto         32.00\n",
       "1               serranopolis         32.00\n",
       "2         brotas de macaubas         32.00\n",
       "3                  tunapolis         32.00\n",
       "4      capela do alto alegre         32.00\n",
       "5                     fortim         32.00\n",
       "6                      cairu         32.00\n",
       "7             epitaciolandia         32.00\n",
       "8                   urucania         32.00\n",
       "9                porto calvo         32.00"
      ]
     },
     "execution_count": 13,
     "metadata": {},
     "output_type": "execute_result"
    }
   ],
   "source": [
    "query= \"\"\"with count_per_order as (\n",
    "select orders.order_id, orders.customer_id, count(order_items.order_id) as oc\n",
    "from orders join order_items\n",
    "on orders.order_id = order_items.order_id\n",
    "group by orders.order_id, orders.customer_id\n",
    ")\n",
    "\n",
    "select customers.customer_city, round(avg(count_per_order.oc),2) average_orders \n",
    "from customers join count_per_order \n",
    "on customers.customer_id = count_per_order.customer_id\n",
    "group by customers.customer_city order by average_orders\n",
    "\"\"\"\n",
    "cur.execute(query)\n",
    "data = cur.fetchall()\n",
    "df = pd.DataFrame(data, columns = [\"customer_city\", \"average_products/order\"])\n",
    "df.head(10)"
   ]
  },
  {
   "cell_type": "markdown",
   "id": "c3f6bbe4-2d65-48f4-bbd4-8217bb8a13b4",
   "metadata": {},
   "source": [
    "# Calculate the percentage of total revenue contributed by each product category."
   ]
  },
  {
   "cell_type": "code",
   "execution_count": 9,
   "id": "eea2d915-aecf-452c-8dab-2782e8a67f66",
   "metadata": {},
   "outputs": [
    {
     "data": {
      "text/html": [
       "<div>\n",
       "<style scoped>\n",
       "    .dataframe tbody tr th:only-of-type {\n",
       "        vertical-align: middle;\n",
       "    }\n",
       "\n",
       "    .dataframe tbody tr th {\n",
       "        vertical-align: top;\n",
       "    }\n",
       "\n",
       "    .dataframe thead th {\n",
       "        text-align: right;\n",
       "    }\n",
       "</style>\n",
       "<table border=\"1\" class=\"dataframe\">\n",
       "  <thead>\n",
       "    <tr style=\"text-align: right;\">\n",
       "      <th></th>\n",
       "      <th>Category</th>\n",
       "      <th>Percentage distribution</th>\n",
       "    </tr>\n",
       "  </thead>\n",
       "  <tbody>\n",
       "    <tr>\n",
       "      <th>0</th>\n",
       "      <td>BED TABLE BATH</td>\n",
       "      <td>171.16</td>\n",
       "    </tr>\n",
       "    <tr>\n",
       "      <th>1</th>\n",
       "      <td>HEALTH BEAUTY</td>\n",
       "      <td>165.65</td>\n",
       "    </tr>\n",
       "    <tr>\n",
       "      <th>2</th>\n",
       "      <td>COMPUTER ACCESSORIES</td>\n",
       "      <td>158.45</td>\n",
       "    </tr>\n",
       "    <tr>\n",
       "      <th>3</th>\n",
       "      <td>FURNITURE DECORATION</td>\n",
       "      <td>142.94</td>\n",
       "    </tr>\n",
       "    <tr>\n",
       "      <th>4</th>\n",
       "      <td>WATCHES PRESENT</td>\n",
       "      <td>142.84</td>\n",
       "    </tr>\n",
       "  </tbody>\n",
       "</table>\n",
       "</div>"
      ],
      "text/plain": [
       "               Category  Percentage distribution\n",
       "0        BED TABLE BATH                   171.16\n",
       "1         HEALTH BEAUTY                   165.65\n",
       "2  COMPUTER ACCESSORIES                   158.45\n",
       "3  FURNITURE DECORATION                   142.94\n",
       "4       WATCHES PRESENT                   142.84"
      ]
     },
     "execution_count": 9,
     "metadata": {},
     "output_type": "execute_result"
    }
   ],
   "source": [
    "query = \"\"\"\n",
    "SELECT \n",
    "    UPPER(products.product_category) AS category, \n",
    "   round((SUM(payments.payment_value) / (SELECT SUM(payment_value) FROM payments)) * 100,2) AS sales_percentage\n",
    "FROM products \n",
    "JOIN order_items ON products.product_id = order_items.product_id\n",
    "JOIN payments ON payments.order_id = order_items.order_id\n",
    "GROUP BY category order by sales_percentage desc\n",
    "\"\"\"\n",
    "cur.execute(query)\n",
    "data = cur.fetchall()\n",
    "\n",
    "df= pd.DataFrame(data, columns = [\"Category\", \"Percentage distribution\"])\n",
    "df.head()\n"
   ]
  },
  {
   "cell_type": "markdown",
   "id": "00e4f56c-10b0-4d4b-bc1a-bd277d5293c9",
   "metadata": {},
   "source": [
    "#  Identify the correlation between product price and the number of times a product has been purchased."
   ]
  },
  {
   "cell_type": "code",
   "execution_count": 16,
   "id": "be3cbb0c-3b74-4fd0-ad51-9e0786ddbdb5",
   "metadata": {},
   "outputs": [
    {
     "name": "stdout",
     "output_type": "stream",
     "text": [
      "                   Product_category  Order_count  Average_price\n",
      "0                     HEALTH BEAUTY       154720         130.16\n",
      "1                     sport leisure       138256         114.34\n",
      "2                        Cool Stuff        60736         167.36\n",
      "3              computer accessories       125232         116.51\n",
      "4                   Watches present        95856         201.14\n",
      "..                              ...          ...            ...\n",
      "69  Kitchen portable and food coach          240         264.57\n",
      "70                  House Comfort 2          480          25.34\n",
      "71       CITTE AND UPHACK FURNITURE          608         114.95\n",
      "72           insurance and services           32         141.64\n",
      "73                   cds music dvds          224          52.14\n",
      "\n",
      "[74 rows x 3 columns]\n"
     ]
    }
   ],
   "source": [
    "import pandas as pd\n",
    "import mysql.connector\n",
    "\n",
    "# Establishing the connection to the database\n",
    "conn = mysql.connector.connect(\n",
    "    host= \"localhost\",\n",
    "    user=\"root\",\n",
    "    password=\"7F*q&654\",\n",
    "    database=\"ecommerce\"\n",
    ")\n",
    "cur = conn.cursor()\n",
    "\n",
    "\n",
    "# Writing the corrected SQL query\n",
    "query = \"\"\"\n",
    "SELECT \n",
    "    products.product_category, \n",
    "    COUNT(order_items.product_id) AS order_count,\n",
    "    ROUND(AVG(order_items.price), 2) AS average_price\n",
    "FROM \n",
    "    products \n",
    "JOIN \n",
    "    order_items \n",
    "ON \n",
    "    products.product_id = order_items.product_id\n",
    "GROUP BY \n",
    "    products.product_category;\n",
    "\"\"\"\n",
    "\n",
    "try:\n",
    "    cur.execute(query)\n",
    "    data = cur.fetchall()\n",
    "    df = pd.DataFrame(data, columns=[\"Product_category\", \"Order_count\", \"Average_price\"])\n",
    "    print(df)  # This will display the DataFrame\n",
    "except mysql.connector.Error as err:\n",
    "    print(f\"Error: {err}\")\n",
    "\n",
    "cur.close()\n",
    "conn.close()\n"
   ]
  },
  {
   "cell_type": "markdown",
   "id": "eeb9cc74-c9ce-4049-a2c9-623afa167632",
   "metadata": {},
   "source": [
    "# Calculate the total revenue generated by each seller, and rank them by revenue.\n"
   ]
  },
  {
   "cell_type": "code",
   "execution_count": 22,
   "id": "57917873-873c-4419-94f4-5b888fdec1d2",
   "metadata": {},
   "outputs": [
    {
     "name": "stdout",
     "output_type": "stream",
     "text": [
      "                             Seller_ID       Seller_CITY  Total_Revenue\n",
      "0     4869f7a5dfa277a7dca6462dcf3b52b2           guariba   3.671562e+06\n",
      "1     53243585a1d6dc2643021fd1853d8905  lauro de freitas   3.564417e+06\n",
      "2     4a3ca9315b744ce9f8e9374361493884          ibitinga   3.207567e+06\n",
      "3     fa1c13f2614d7b5c4749cbc52fecda94            sumare   3.104672e+06\n",
      "4     7c67e1448b00f6e969d365cea6b010ab   itaquaquecetuba   3.006782e+06\n",
      "...                                ...               ...            ...\n",
      "3090  34aefe746cd81b7f3b23253ea28bef39          curitiba   1.280000e+02\n",
      "3091  702835e4b785b67a084280efca355756      juiz de fora   1.216000e+02\n",
      "3092  1fa2d3def6adfa70e58c276bb64fe5bb         sao paulo   1.104000e+02\n",
      "3093  77128dec4bec4878c37ab7d6169d6f26         sao paulo   1.040000e+02\n",
      "3094  cf6f6bc4df3999b9c6440f124fb2f687         sao paulo   5.600000e+01\n",
      "\n",
      "[3095 rows x 3 columns]\n"
     ]
    }
   ],
   "source": [
    "import pandas as pd\n",
    "import mysql.connector\n",
    "\n",
    "# Establishing the connection to the database\n",
    "conn = mysql.connector.connect(\n",
    "    host= \"localhost\",\n",
    "    user=\"root\",\n",
    "    password=\"7F*q&654\",\n",
    "    database=\"ecommerce\"\n",
    ")\n",
    "cur = conn.cursor()\n",
    "\n",
    "# Writing the SQL query\n",
    "query = \"\"\"\n",
    "SELECT \n",
    "    sellers.seller_id, \n",
    "    sellers.seller_city, \n",
    "    SUM(order_items.price) AS total_revenue\n",
    "FROM \n",
    "    sellers\n",
    "JOIN \n",
    "    order_items \n",
    "ON \n",
    "    sellers.seller_id = order_items.seller_id\n",
    "GROUP BY \n",
    "    sellers.seller_id, \n",
    "    sellers.seller_city\n",
    "ORDER BY \n",
    "    total_revenue DESC;\n",
    "\"\"\"\n",
    "\n",
    "try:\n",
    "    cur.execute(query)\n",
    "    data = cur.fetchall()\n",
    "    df = pd.DataFrame(data, columns=[\"Seller_ID\", \"Seller_CITY\", \"Total_Revenue\"])\n",
    "    print(df)  # This will display the DataFrame\n",
    "except mysql.connector.Error as err:\n",
    "    print(f\"Error: {err}\")\n",
    "\n",
    "cur.close()\n",
    "conn.close()\n"
   ]
  },
  {
   "cell_type": "code",
   "execution_count": null,
   "id": "53b51b97-d0a4-43cf-a9e0-083c83cafc74",
   "metadata": {},
   "outputs": [],
   "source": []
  }
 ],
 "metadata": {
  "kernelspec": {
   "display_name": "Python 3 (ipykernel)",
   "language": "python",
   "name": "python3"
  },
  "language_info": {
   "codemirror_mode": {
    "name": "ipython",
    "version": 3
   },
   "file_extension": ".py",
   "mimetype": "text/x-python",
   "name": "python",
   "nbconvert_exporter": "python",
   "pygments_lexer": "ipython3",
   "version": "3.12.4"
  }
 },
 "nbformat": 4,
 "nbformat_minor": 5
}
